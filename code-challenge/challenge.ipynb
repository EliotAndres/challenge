{
 "cells": [
  {
   "cell_type": "code",
   "execution_count": 1,
   "metadata": {
    "collapsed": true
   },
   "outputs": [],
   "source": [
    "import pandas as pd\n",
    "import numpy as np\n",
    "\n",
    "import uuid\n",
    "from collections import defaultdict\n",
    "import datetime"
   ]
  },
  {
   "cell_type": "code",
   "execution_count": 2,
   "metadata": {
    "collapsed": true
   },
   "outputs": [],
   "source": [
    "SUM_INTERVALS = [(-7,0), (-14,0), (-30,0)]"
   ]
  },
  {
   "cell_type": "markdown",
   "metadata": {},
   "source": [
    "## Generate some random data"
   ]
  },
  {
   "cell_type": "code",
   "execution_count": 3,
   "metadata": {
    "collapsed": true,
    "scrolled": false
   },
   "outputs": [],
   "source": [
    "uids=np.array([str(uuid.uuid4()) for _ in range(10)])\n",
    "times = pd.date_range('2016-01-01','2016-02-01', freq='s')\n",
    "data = dict(\n",
    "    id=np.random.choice(uids, 100),\n",
    "    timestamp=np.random.choice(times, 100),\n",
    "    feature_a=np.ones(100),\n",
    "    feature_b=np.zeros(100),\n",
    ")\n"
   ]
  },
  {
   "cell_type": "markdown",
   "metadata": {},
   "source": [
    "## Challenge:\n",
    "The `SUM_INTERVAL` variable contains relative time intervals in days. So the first means 7 days back until today (asof time writing this 2016-02-01).\n",
    "the dictionary `data` contains 10 distinct users which made visists over the timespan of one month. Each visit has a value for `feature a`, as awell as `feature_b` assigned to it. **For each user calculate the sum of it's respective features for each time interval. The final output should be a dataframe or numpy matrix containing one row per user, an id column an the feature columns (N_users, 1 + N_intervals*N_features)**\n",
    "\n",
    "*It is encouraged to use the pandas library for this task but it is not required.*"
   ]
  },
  {
   "cell_type": "code",
   "execution_count": 4,
   "metadata": {},
   "outputs": [],
   "source": [
    "def bin_sum_features(data, feature_names, today=pd.Timestamp('2016-02-01')):\n",
    "    totals = defaultdict(int)\n",
    "    \n",
    "    for feature_name in feature_names:\n",
    "        for i, interval in enumerate(SUM_INTERVALS):\n",
    "            before = today + pd.Timedelta(days=interval[0])\n",
    "            after = today + pd.Timedelta(days=interval[1])\n",
    "            \n",
    "            for value, timestamp in zip(data[feature_name], data['timestamp']):\n",
    "                if  before <= timestamp and timestamp <= after:\n",
    "                    totals['{}_{}'.format(feature_name, i)] += value\n",
    "                \n",
    "    return totals"
   ]
  },
  {
   "cell_type": "code",
   "execution_count": 5,
   "metadata": {},
   "outputs": [
    {
     "data": {
      "text/html": [
       "<div>\n",
       "<table border=\"1\" class=\"dataframe\">\n",
       "  <thead>\n",
       "    <tr style=\"text-align: right;\">\n",
       "      <th></th>\n",
       "      <th>feature_a_0</th>\n",
       "      <th>feature_a_1</th>\n",
       "      <th>feature_a_2</th>\n",
       "      <th>feature_b_0</th>\n",
       "      <th>feature_b_1</th>\n",
       "      <th>feature_b_2</th>\n",
       "    </tr>\n",
       "    <tr>\n",
       "      <th>id</th>\n",
       "      <th></th>\n",
       "      <th></th>\n",
       "      <th></th>\n",
       "      <th></th>\n",
       "      <th></th>\n",
       "      <th></th>\n",
       "    </tr>\n",
       "  </thead>\n",
       "  <tbody>\n",
       "    <tr>\n",
       "      <th>162258e3-bc29-4c9b-8cd8-f5bfb4cd16f1</th>\n",
       "      <td>1.0</td>\n",
       "      <td>3.0</td>\n",
       "      <td>12.0</td>\n",
       "      <td>0.0</td>\n",
       "      <td>0.0</td>\n",
       "      <td>0.0</td>\n",
       "    </tr>\n",
       "    <tr>\n",
       "      <th>1851d89a-f396-4c4c-ac3d-047be6620c2f</th>\n",
       "      <td>4.0</td>\n",
       "      <td>8.0</td>\n",
       "      <td>11.0</td>\n",
       "      <td>0.0</td>\n",
       "      <td>0.0</td>\n",
       "      <td>0.0</td>\n",
       "    </tr>\n",
       "    <tr>\n",
       "      <th>39edb864-ce89-4b26-9a6d-59da30a50677</th>\n",
       "      <td>4.0</td>\n",
       "      <td>5.0</td>\n",
       "      <td>8.0</td>\n",
       "      <td>0.0</td>\n",
       "      <td>0.0</td>\n",
       "      <td>0.0</td>\n",
       "    </tr>\n",
       "    <tr>\n",
       "      <th>3b234248-9de1-4437-8f86-673fb8fa44c9</th>\n",
       "      <td>2.0</td>\n",
       "      <td>3.0</td>\n",
       "      <td>11.0</td>\n",
       "      <td>0.0</td>\n",
       "      <td>0.0</td>\n",
       "      <td>0.0</td>\n",
       "    </tr>\n",
       "    <tr>\n",
       "      <th>4ff533d1-0c36-4014-9fd3-aaf05681e52d</th>\n",
       "      <td>3.0</td>\n",
       "      <td>6.0</td>\n",
       "      <td>12.0</td>\n",
       "      <td>0.0</td>\n",
       "      <td>0.0</td>\n",
       "      <td>0.0</td>\n",
       "    </tr>\n",
       "    <tr>\n",
       "      <th>88f12e10-89f1-4c60-a97b-da65db613700</th>\n",
       "      <td>0.0</td>\n",
       "      <td>1.0</td>\n",
       "      <td>9.0</td>\n",
       "      <td>0.0</td>\n",
       "      <td>0.0</td>\n",
       "      <td>0.0</td>\n",
       "    </tr>\n",
       "    <tr>\n",
       "      <th>8aafb00b-92f5-45b3-84d7-fa086ae32ec1</th>\n",
       "      <td>1.0</td>\n",
       "      <td>1.0</td>\n",
       "      <td>9.0</td>\n",
       "      <td>0.0</td>\n",
       "      <td>0.0</td>\n",
       "      <td>0.0</td>\n",
       "    </tr>\n",
       "    <tr>\n",
       "      <th>d35a5ea4-75ca-4ae2-9188-c94c1125435f</th>\n",
       "      <td>1.0</td>\n",
       "      <td>5.0</td>\n",
       "      <td>9.0</td>\n",
       "      <td>0.0</td>\n",
       "      <td>0.0</td>\n",
       "      <td>0.0</td>\n",
       "    </tr>\n",
       "    <tr>\n",
       "      <th>e2f5b0fc-c9f2-4d05-b394-b00cdc75ed32</th>\n",
       "      <td>2.0</td>\n",
       "      <td>6.0</td>\n",
       "      <td>8.0</td>\n",
       "      <td>0.0</td>\n",
       "      <td>0.0</td>\n",
       "      <td>0.0</td>\n",
       "    </tr>\n",
       "    <tr>\n",
       "      <th>e707c64f-214a-4c3f-965a-b6c9c845965e</th>\n",
       "      <td>3.0</td>\n",
       "      <td>5.0</td>\n",
       "      <td>9.0</td>\n",
       "      <td>0.0</td>\n",
       "      <td>0.0</td>\n",
       "      <td>0.0</td>\n",
       "    </tr>\n",
       "  </tbody>\n",
       "</table>\n",
       "</div>"
      ],
      "text/plain": [
       "                                      feature_a_0  feature_a_1  feature_a_2  \\\n",
       "id                                                                            \n",
       "162258e3-bc29-4c9b-8cd8-f5bfb4cd16f1          1.0          3.0         12.0   \n",
       "1851d89a-f396-4c4c-ac3d-047be6620c2f          4.0          8.0         11.0   \n",
       "39edb864-ce89-4b26-9a6d-59da30a50677          4.0          5.0          8.0   \n",
       "3b234248-9de1-4437-8f86-673fb8fa44c9          2.0          3.0         11.0   \n",
       "4ff533d1-0c36-4014-9fd3-aaf05681e52d          3.0          6.0         12.0   \n",
       "88f12e10-89f1-4c60-a97b-da65db613700          0.0          1.0          9.0   \n",
       "8aafb00b-92f5-45b3-84d7-fa086ae32ec1          1.0          1.0          9.0   \n",
       "d35a5ea4-75ca-4ae2-9188-c94c1125435f          1.0          5.0          9.0   \n",
       "e2f5b0fc-c9f2-4d05-b394-b00cdc75ed32          2.0          6.0          8.0   \n",
       "e707c64f-214a-4c3f-965a-b6c9c845965e          3.0          5.0          9.0   \n",
       "\n",
       "                                      feature_b_0  feature_b_1  feature_b_2  \n",
       "id                                                                           \n",
       "162258e3-bc29-4c9b-8cd8-f5bfb4cd16f1          0.0          0.0          0.0  \n",
       "1851d89a-f396-4c4c-ac3d-047be6620c2f          0.0          0.0          0.0  \n",
       "39edb864-ce89-4b26-9a6d-59da30a50677          0.0          0.0          0.0  \n",
       "3b234248-9de1-4437-8f86-673fb8fa44c9          0.0          0.0          0.0  \n",
       "4ff533d1-0c36-4014-9fd3-aaf05681e52d          0.0          0.0          0.0  \n",
       "88f12e10-89f1-4c60-a97b-da65db613700          0.0          0.0          0.0  \n",
       "8aafb00b-92f5-45b3-84d7-fa086ae32ec1          0.0          0.0          0.0  \n",
       "d35a5ea4-75ca-4ae2-9188-c94c1125435f          0.0          0.0          0.0  \n",
       "e2f5b0fc-c9f2-4d05-b394-b00cdc75ed32          0.0          0.0          0.0  \n",
       "e707c64f-214a-4c3f-965a-b6c9c845965e          0.0          0.0          0.0  "
      ]
     },
     "execution_count": 5,
     "metadata": {},
     "output_type": "execute_result"
    }
   ],
   "source": [
    "df = pd.DataFrame.from_dict(data)\n",
    "feature_names = ['feature_a', 'feature_b']\n",
    "\n",
    "df.groupby('id').apply(bin_sum_features, feature_names=feature_names).apply(pd.Series).fillna(0)\n"
   ]
  },
  {
   "cell_type": "markdown",
   "metadata": {},
   "source": [
    "# A few comments\n",
    "\n",
    "- The result above does not follow the naming convention of the result below. This is because it would be a problem if\n",
    "SUM_INTERVALS = [(-7,0), (-7,-1)]. Instead it is using the interval ids.\n",
    "- As always with dates, hours and time zone will be a problem but I did not consider this here\n",
    "- You'll notice 3 consecutive for loops. While it looks ugly, I did this because we only have to group + loop over all the lines of the dataframe once, hence it should be faster\n",
    "- If there is a lot more data, bin_sum_features could be made faster by using an array instead of defaultdict. However it would be less readable"
   ]
  },
  {
   "cell_type": "markdown",
   "metadata": {},
   "source": [
    "## Result shape example\n",
    "below you see how the results could look like with pandas"
   ]
  },
  {
   "cell_type": "code",
   "execution_count": 6,
   "metadata": {},
   "outputs": [
    {
     "data": {
      "text/html": [
       "<div>\n",
       "<table border=\"1\" class=\"dataframe\">\n",
       "  <thead>\n",
       "    <tr style=\"text-align: right;\">\n",
       "      <th></th>\n",
       "      <th>id</th>\n",
       "      <th>feature_a_7</th>\n",
       "      <th>feature_a_14</th>\n",
       "      <th>feature_a_30</th>\n",
       "      <th>feature_b_7</th>\n",
       "      <th>feature_b_14</th>\n",
       "      <th>feature_b_30</th>\n",
       "    </tr>\n",
       "  </thead>\n",
       "  <tbody>\n",
       "    <tr>\n",
       "      <th>0</th>\n",
       "      <td>1aa9204b-5956-41a3-96b6-58cbf6bc147e</td>\n",
       "      <td>1</td>\n",
       "      <td>2</td>\n",
       "      <td>3</td>\n",
       "      <td>4</td>\n",
       "      <td>5</td>\n",
       "      <td>6</td>\n",
       "    </tr>\n",
       "  </tbody>\n",
       "</table>\n",
       "</div>"
      ],
      "text/plain": [
       "                                     id  feature_a_7  feature_a_14  \\\n",
       "0  1aa9204b-5956-41a3-96b6-58cbf6bc147e            1             2   \n",
       "\n",
       "   feature_a_30  feature_b_7  feature_b_14  feature_b_30  \n",
       "0             3            4             5             6  "
      ]
     },
     "execution_count": 6,
     "metadata": {},
     "output_type": "execute_result"
    }
   ],
   "source": [
    "pd.DataFrame([['1aa9204b-5956-41a3-96b6-58cbf6bc147e',1,2,3,4,5,6]], \n",
    "             columns=['id', 'feature_a_7', 'feature_a_14', 'feature_a_30', \n",
    "                      'feature_b_7', 'feature_b_14', 'feature_b_30'])"
   ]
  }
 ],
 "metadata": {
  "kernelspec": {
   "display_name": "Python 3",
   "language": "python",
   "name": "python3"
  },
  "language_info": {
   "codemirror_mode": {
    "name": "ipython",
    "version": 3
   },
   "file_extension": ".py",
   "mimetype": "text/x-python",
   "name": "python",
   "nbconvert_exporter": "python",
   "pygments_lexer": "ipython3",
   "version": "3.5.3"
  }
 },
 "nbformat": 4,
 "nbformat_minor": 2
}
